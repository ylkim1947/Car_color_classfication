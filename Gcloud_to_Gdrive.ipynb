{
  "nbformat": 4,
  "nbformat_minor": 0,
  "metadata": {
    "colab": {
      "provenance": [],
      "mount_file_id": "1tMUcznKAxuUnZzLge-bJ-7L2hOjUoZAG",
      "authorship_tag": "ABX9TyMh4qVnsFOJfzb2W0dtXFaE",
      "include_colab_link": true
    },
    "kernelspec": {
      "name": "python3",
      "display_name": "Python 3"
    },
    "language_info": {
      "name": "python"
    }
  },
  "cells": [
    {
      "cell_type": "markdown",
      "metadata": {
        "id": "view-in-github",
        "colab_type": "text"
      },
      "source": [
        "<a href=\"https://colab.research.google.com/github/ylkim1947/Car_detection_project/blob/main/Gcloud_to_Gdrive.ipynb\" target=\"_parent\"><img src=\"https://colab.research.google.com/assets/colab-badge.svg\" alt=\"Open In Colab\"/></a>"
      ]
    },
    {
      "cell_type": "markdown",
      "source": [
        "구글 드라이브에 접속"
      ],
      "metadata": {
        "id": "pTRWVOgCUShB"
      }
    },
    {
      "cell_type": "code",
      "execution_count": 1,
      "metadata": {
        "colab": {
          "base_uri": "https://localhost:8080/"
        },
        "id": "aH9F3AEY2LcJ",
        "outputId": "9fb13464-b113-4794-cf98-d6bf8f3371a3"
      },
      "outputs": [
        {
          "output_type": "stream",
          "name": "stdout",
          "text": [
            "Mounted at /content/gdrive/\n"
          ]
        }
      ],
      "source": [
        "from google.colab import drive\n",
        "\n",
        "drive.mount('/content/gdrive/', force_remount=True)"
      ]
    },
    {
      "cell_type": "markdown",
      "source": [
        "구글 클라우드에 접속\n",
        "\n",
        "Project ID 필요\n"
      ],
      "metadata": {
        "id": "YB0DS4tLUVXI"
      }
    },
    {
      "cell_type": "code",
      "source": [
        "from google.colab import auth\n",
        "auth.authenticate_user()\n",
        "project_id = 'ylkim-cp2'\n",
        "!gcloud config set project {project_id}\n",
        "!gsutil ls"
      ],
      "metadata": {
        "colab": {
          "base_uri": "https://localhost:8080/"
        },
        "id": "vFh56qvH4IjW",
        "outputId": "2c090b43-06cb-4d19-8dca-a1e42e3acfa2"
      },
      "execution_count": 12,
      "outputs": [
        {
          "output_type": "stream",
          "name": "stdout",
          "text": [
            "Updated property [core/project].\n",
            "gs://codestates_cp2_cars/\n"
          ]
        }
      ]
    },
    {
      "cell_type": "markdown",
      "source": [
        "구글 클라우드 --> 구글 드라이브 \n",
        "\n",
        "!gsutil -m cp -R gs://{클라우드폴더} /content/gdrive/MyDrive/{드라이브폴더}\n",
        "\n",
        "gsutil: 라이브러리 \n",
        "\n",
        "-m : 멀티스레딩(속도 업)\n",
        "\n",
        "cp: 복사 \n",
        "\n",
        "\n"
      ],
      "metadata": {
        "id": "6TnHZinLUbHn"
      }
    },
    {
      "cell_type": "code",
      "source": [
        "bucket_name = 'gs://codestates_cp2_cars/'\n",
        "dataset_path ='/content/gdrive/MyDrive/Colab Notebooks/project_cp2'\n",
        "\n",
        "!gsutil -m cp -R gs://codestates_cp2_cars/ /content/gdrive/MyDrive/cp2"
      ],
      "metadata": {
        "colab": {
          "base_uri": "https://localhost:8080/",
          "height": 1000
        },
        "id": "dyM0dop04mX9",
        "outputId": "0602119d-0b1a-4b3e-cdf8-1e03dc2fa463"
      },
      "execution_count": 24,
      "outputs": [
        {
          "output_type": "stream",
          "name": "stdout",
          "text": [
            "shell-init: error retrieving current directory: getcwd: cannot access parent directories: Transport endpoint is not connected\n",
            "sh: 0: getcwd() failed: Transport endpoint is not connected\n",
            "[\u001b[34m2022-11-21 10:42:19,700\u001b[0m] {\u001b[34multratb.py:\u001b[0m155} ERROR\u001b[0m - Internal Python error in the inspect module.\n",
            "Below is the traceback from this internal error.\n",
            "\u001b[0m\n",
            "Traceback (most recent call last):\n",
            "  File \"/usr/local/lib/python3.7/dist-packages/IPython/core/interactiveshell.py\", line 3326, in run_code\n",
            "    exec(code_obj, self.user_global_ns, self.user_ns)\n",
            "  File \"<ipython-input-24-989669780e11>\", line 4, in <module>\n",
            "    get_ipython().system('gsutil -m cp -R gs://codestates_cp2_cars/ /content/gdrive/MyDrive/cp2')\n",
            "  File \"/usr/local/lib/python3.7/dist-packages/google/colab/_shell.py\", line 95, in system\n",
            "    output = _system_commands._system_compat(self, *args, **kwargs)  # pylint:disable=protected-access\n",
            "  File \"/usr/local/lib/python3.7/dist-packages/google/colab/_system_commands.py\", line 437, in _system_compat\n",
            "    shell.var_expand(cmd, depth=2), clear_streamed_output=False)\n",
            "  File \"/usr/local/lib/python3.7/dist-packages/google/colab/_system_commands.py\", line 195, in _run_command\n",
            "    return _monitor_process(parent_pty, epoll, p, cmd, update_stdin_widget)\n",
            "  File \"/usr/local/lib/python3.7/dist-packages/google/colab/_system_commands.py\", line 225, in _monitor_process\n",
            "    result = _poll_process(parent_pty, epoll, p, cmd, decoder, state)\n",
            "  File \"/usr/local/lib/python3.7/dist-packages/google/colab/_system_commands.py\", line 272, in _poll_process\n",
            "    events = epoll.poll()\n",
            "KeyboardInterrupt\n",
            "\n",
            "During handling of the above exception, another exception occurred:\n",
            "\n",
            "Traceback (most recent call last):\n",
            "  File \"/usr/local/lib/python3.7/dist-packages/IPython/core/interactiveshell.py\", line 2040, in showtraceback\n",
            "    stb = value._render_traceback_()\n",
            "AttributeError: 'KeyboardInterrupt' object has no attribute '_render_traceback_'\n",
            "\n",
            "During handling of the above exception, another exception occurred:\n",
            "\n",
            "Traceback (most recent call last):\n",
            "  File \"/usr/local/lib/python3.7/dist-packages/IPython/core/ultratb.py\", line 1101, in get_records\n",
            "    return _fixed_getinnerframes(etb, number_of_lines_of_context, tb_offset)\n",
            "  File \"/usr/local/lib/python3.7/dist-packages/IPython/core/ultratb.py\", line 319, in wrapped\n",
            "    return f(*args, **kwargs)\n",
            "  File \"/usr/local/lib/python3.7/dist-packages/IPython/core/ultratb.py\", line 353, in _fixed_getinnerframes\n",
            "    records = fix_frame_records_filenames(inspect.getinnerframes(etb, context))\n",
            "  File \"/usr/lib/python3.7/inspect.py\", line 1502, in getinnerframes\n",
            "    frameinfo = (tb.tb_frame,) + getframeinfo(tb, context)\n",
            "  File \"/usr/lib/python3.7/inspect.py\", line 1460, in getframeinfo\n",
            "    filename = getsourcefile(frame) or getfile(frame)\n",
            "  File \"/usr/lib/python3.7/inspect.py\", line 696, in getsourcefile\n",
            "    if getattr(getmodule(object, filename), '__loader__', None) is not None:\n",
            "  File \"/usr/lib/python3.7/inspect.py\", line 725, in getmodule\n",
            "    file = getabsfile(object, _filename)\n",
            "  File \"/usr/lib/python3.7/inspect.py\", line 709, in getabsfile\n",
            "    return os.path.normcase(os.path.abspath(_filename))\n",
            "  File \"/usr/lib/python3.7/posixpath.py\", line 383, in abspath\n",
            "    cwd = os.getcwd()\n",
            "OSError: [Errno 107] Transport endpoint is not connected\n",
            "[\u001b[34m2022-11-21 10:42:19,706\u001b[0m] {\u001b[34multratb.py:\u001b[0m1117} INFO\u001b[0m - \n",
            "Unfortunately, your original traceback can not be constructed.\n",
            "\u001b[0m\n"
          ]
        },
        {
          "output_type": "error",
          "ename": "KeyboardInterrupt",
          "evalue": "ignored",
          "traceback": [
            "\u001b[0;31m---------------------------------------------------------------------------\u001b[0m"
          ]
        }
      ]
    },
    {
      "cell_type": "markdown",
      "source": [
        "구글 드라이브에서 알집 해제"
      ],
      "metadata": {
        "id": "rDV3OZqjVEed"
      }
    },
    {
      "cell_type": "code",
      "source": [
        "%cd /content/gdrive/MyDrive/cp2/codestates_cp2_cars/091/01.데이터/1.Training/원천데이터/\n",
        "!unzip -qq \"/content/gdrive/MyDrive/cp2/codestates_cp2_cars/091/01.데이터/1.Training/원천데이터/TS3.zip_.gstmp\"\n"
      ],
      "metadata": {
        "colab": {
          "base_uri": "https://localhost:8080/"
        },
        "id": "TrYbeaz8VDek",
        "outputId": "f879bfd9-7299-41e4-ea0d-718b2f68f97d"
      },
      "execution_count": 14,
      "outputs": [
        {
          "output_type": "stream",
          "name": "stdout",
          "text": [
            "/content/gdrive/MyDrive/cp2/codestates_cp2_cars/091/01.데이터/1.Training/원천데이터\n"
          ]
        }
      ]
    },
    {
      "cell_type": "code",
      "source": [
        "%cd /content/gdrive/MyDrive/cp2/codestates_cp2_cars/091/01.데이터/1.Training/원천데이터/\n",
        "!unzip -qq \"/content/gdrive/MyDrive/cp2/codestates_cp2_cars/091/01.데이터/1.Training/원천데이터/TS1.zip\"\n",
        "!unzip -qq \"/content/gdrive/MyDrive/cp2/codestates_cp2_cars/091/01.데이터/1.Training/원천데이터/TS4.zip\""
      ],
      "metadata": {
        "colab": {
          "base_uri": "https://localhost:8080/"
        },
        "id": "R5nvxSD2o1Op",
        "outputId": "eec0cf47-0497-41ca-b102-de3c2df06bd7"
      },
      "execution_count": 15,
      "outputs": [
        {
          "output_type": "stream",
          "name": "stdout",
          "text": [
            "/content/gdrive/MyDrive/cp2/codestates_cp2_cars/091/01.데이터/1.Training/원천데이터\n"
          ]
        }
      ]
    },
    {
      "cell_type": "code",
      "source": [
        "ls"
      ],
      "metadata": {
        "colab": {
          "base_uri": "https://localhost:8080/"
        },
        "id": "83ZpzvJUyour",
        "outputId": "ad07d22a-2baa-4653-da73-8673aefa5410"
      },
      "execution_count": 4,
      "outputs": [
        {
          "output_type": "stream",
          "name": "stdout",
          "text": [
            "\u001b[0m\u001b[01;34mAU_아우디\u001b[0m/  \u001b[01;34mFO_포드\u001b[0m/      \u001b[01;34mLA_랜드로버\u001b[0m/  \u001b[01;34mRE_르노\u001b[0m/      TS1.zip         \u001b[01;34mVV_볼보\u001b[0m\u001b[K/\n",
            "\u001b[01;34mBE_벤츠\u001b[0m/    \u001b[01;34mGE_제네시스\u001b[0m/  \u001b[01;34mLE_렉서스\u001b[0m/    \u001b[01;34mRS_르노삼성\u001b[0m/  TS3.zip_.gstmp\n",
            "\u001b[01;34mBM_BMW\u001b[0m/     \u001b[01;34mHO_혼다\u001b[0m/      \u001b[01;34mMI_미니\u001b[0m/      \u001b[01;34mSS_쌍용\u001b[0m/      TS4.zip\n",
            "\u001b[01;34mCH_쉐보레\u001b[0m/  \u001b[01;34mKI_기아\u001b[0m/      \u001b[01;34mNI_닛산\u001b[0m/      \u001b[01;34mTO_토요타\u001b[0m/    \u001b[01;34mVO_폭스바겐\u001b[0m\u001b[K/\n"
          ]
        }
      ]
    },
    {
      "cell_type": "code",
      "source": [
        "from google.colab import drive\n",
        "drive.mount('/content/drive')"
      ],
      "metadata": {
        "colab": {
          "base_uri": "https://localhost:8080/"
        },
        "id": "QDRThQTnzfL-",
        "outputId": "c70864e4-2cf7-43e1-91a5-881da4b62afd"
      },
      "execution_count": 1,
      "outputs": [
        {
          "output_type": "stream",
          "name": "stdout",
          "text": [
            "Drive already mounted at /content/drive; to attempt to forcibly remount, call drive.mount(\"/content/drive\", force_remount=True).\n"
          ]
        }
      ]
    },
    {
      "cell_type": "code",
      "source": [
        "%cd /content/drive/MyDrive/cp2/codestates_cp2_cars/091/01.데이터/1.Training/원천데이터/\n",
        "\n",
        "!unzip -qq \"/content/drive/MyDrive/cp2/codestates_cp2_cars/091/01.데이터/1.Training/원천데이터/TS2.zip\"\n"
      ],
      "metadata": {
        "colab": {
          "base_uri": "https://localhost:8080/"
        },
        "id": "ZmuCCKmxtsUG",
        "outputId": "07f3a1cf-30b3-4754-e385-ad9036f0156b"
      },
      "execution_count": 2,
      "outputs": [
        {
          "output_type": "stream",
          "name": "stdout",
          "text": [
            "/content/drive/MyDrive/cp2/codestates_cp2_cars/091/01.데이터/1.Training/원천데이터\n"
          ]
        }
      ]
    },
    {
      "cell_type": "code",
      "source": [
        "%cd /content/drive/MyDrive/cp2/codestates_cp2_cars/091/01.데이터/1.Training/라벨링데이터/\n",
        "\n",
        "!unzip -qq \"/content/drive/MyDrive/cp2/codestates_cp2_cars/091/01.데이터/1.Training/라벨링데이터/TL1.zip\"\n",
        "!unzip -qq \"/content/drive/MyDrive/cp2/codestates_cp2_cars/091/01.데이터/1.Training/라벨링데이터/TL2.zip\"\n",
        "!unzip -qq \"/content/drive/MyDrive/cp2/codestates_cp2_cars/091/01.데이터/1.Training/라벨링데이터/TL3.zip\"\n",
        "!unzip -qq \"/content/drive/MyDrive/cp2/codestates_cp2_cars/091/01.데이터/1.Training/라벨링데이터/TL4.zip\"\n"
      ],
      "metadata": {
        "colab": {
          "base_uri": "https://localhost:8080/"
        },
        "id": "lw41s4Zqz36H",
        "outputId": "a9d0f18c-586a-4076-d8bc-c2b43b2def50"
      },
      "execution_count": 1,
      "outputs": [
        {
          "output_type": "stream",
          "name": "stdout",
          "text": [
            "/content/drive/MyDrive/cp2/codestates_cp2_cars/091/01.데이터/1.Training/라벨링데이터\n",
            "replace HY_현대/025_i30/2017_빨강_트림A/C_210812_HY_025_17_RE_A_P_01_002.json? [y]es, [n]o, [A]ll, [N]one, [r]ename: A\n"
          ]
        }
      ]
    },
    {
      "cell_type": "code",
      "source": [
        "%cd /content/drive/MyDrive/cp2/codestates_cp2_cars/091/01.데이터/2.Validation/원천데이터/\n",
        "\n",
        "!unzip -qq \"/content/drive/MyDrive/cp2/codestates_cp2_cars/091/01.데이터/2.Validation/원천데이터/VS1.zip\"\n",
        "!unzip -qq \"/content/drive/MyDrive/cp2/codestates_cp2_cars/091/01.데이터/2.Validation/원천데이터/VS2.zip\"\n",
        "!unzip -qq \"/content/drive/MyDrive/cp2/codestates_cp2_cars/091/01.데이터/2.Validation/원천데이터/VS3.zip\"\n",
        "!unzip -qq \"/content/drive/MyDrive/cp2/codestates_cp2_cars/091/01.데이터/2.Validation/원천데이터/VS4.zip\"\n"
      ],
      "metadata": {
        "colab": {
          "base_uri": "https://localhost:8080/"
        },
        "id": "iSDNThqc1BHI",
        "outputId": "3b6978c0-3a9d-41f7-cc78-251c82bbdc15"
      },
      "execution_count": 2,
      "outputs": [
        {
          "output_type": "stream",
          "name": "stdout",
          "text": [
            "/content/drive/MyDrive/cp2/codestates_cp2_cars/091/01.데이터/2.Validation/원천데이터\n"
          ]
        }
      ]
    },
    {
      "cell_type": "code",
      "source": [
        "%cd /content/drive/MyDrive/cp2/codestates_cp2_cars/091/01.데이터/1.Training/라벨링데이터/\n",
        "\n",
        "!unzip -qq \"/content/drive/MyDrive/cp2/codestates_cp2_cars/091/01.데이터/2.Validation/라벨링데이터/VL1.zip\"\n",
        "!unzip -qq \"/content/drive/MyDrive/cp2/codestates_cp2_cars/091/01.데이터/2.Validation/라벨링데이터/VL2.zip\"\n",
        "!unzip -qq \"/content/drive/MyDrive/cp2/codestates_cp2_cars/091/01.데이터/2.Validation/라벨링데이터/VL3.zip\"\n",
        "!unzip -qq \"/content/drive/MyDrive/cp2/codestates_cp2_cars/091/01.데이터/2.Validation/라벨링데이터/VL4.zip\"\n"
      ],
      "metadata": {
        "colab": {
          "base_uri": "https://localhost:8080/"
        },
        "id": "tbYOGq_O1CdC",
        "outputId": "11cc6c49-c562-4707-f2db-4b897d903a97"
      },
      "execution_count": 3,
      "outputs": [
        {
          "output_type": "stream",
          "name": "stdout",
          "text": [
            "/content/drive/MyDrive/cp2/codestates_cp2_cars/091/01.데이터/1.Training/라벨링데이터\n"
          ]
        }
      ]
    }
  ]
}